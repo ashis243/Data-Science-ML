{
 "cells": [
  {
   "cell_type": "code",
   "execution_count": 1,
   "id": "30adbb9b",
   "metadata": {},
   "outputs": [],
   "source": [
    "import pandas as pd"
   ]
  },
  {
   "cell_type": "code",
   "execution_count": 4,
   "id": "f2814330",
   "metadata": {},
   "outputs": [],
   "source": [
    "df=pd.read_csv('blogs.csv')"
   ]
  },
  {
   "cell_type": "code",
   "execution_count": 5,
   "id": "c30cab80",
   "metadata": {},
   "outputs": [
    {
     "data": {
      "text/html": [
       "<div>\n",
       "<style scoped>\n",
       "    .dataframe tbody tr th:only-of-type {\n",
       "        vertical-align: middle;\n",
       "    }\n",
       "\n",
       "    .dataframe tbody tr th {\n",
       "        vertical-align: top;\n",
       "    }\n",
       "\n",
       "    .dataframe thead th {\n",
       "        text-align: right;\n",
       "    }\n",
       "</style>\n",
       "<table border=\"1\" class=\"dataframe\">\n",
       "  <thead>\n",
       "    <tr style=\"text-align: right;\">\n",
       "      <th></th>\n",
       "      <th>Data</th>\n",
       "      <th>Labels</th>\n",
       "    </tr>\n",
       "  </thead>\n",
       "  <tbody>\n",
       "    <tr>\n",
       "      <th>0</th>\n",
       "      <td>Path: cantaloupe.srv.cs.cmu.edu!magnesium.club...</td>\n",
       "      <td>alt.atheism</td>\n",
       "    </tr>\n",
       "    <tr>\n",
       "      <th>1</th>\n",
       "      <td>Newsgroups: alt.atheism\\nPath: cantaloupe.srv....</td>\n",
       "      <td>alt.atheism</td>\n",
       "    </tr>\n",
       "    <tr>\n",
       "      <th>2</th>\n",
       "      <td>Path: cantaloupe.srv.cs.cmu.edu!das-news.harva...</td>\n",
       "      <td>alt.atheism</td>\n",
       "    </tr>\n",
       "    <tr>\n",
       "      <th>3</th>\n",
       "      <td>Path: cantaloupe.srv.cs.cmu.edu!magnesium.club...</td>\n",
       "      <td>alt.atheism</td>\n",
       "    </tr>\n",
       "    <tr>\n",
       "      <th>4</th>\n",
       "      <td>Xref: cantaloupe.srv.cs.cmu.edu alt.atheism:53...</td>\n",
       "      <td>alt.atheism</td>\n",
       "    </tr>\n",
       "    <tr>\n",
       "      <th>...</th>\n",
       "      <td>...</td>\n",
       "      <td>...</td>\n",
       "    </tr>\n",
       "    <tr>\n",
       "      <th>1995</th>\n",
       "      <td>Xref: cantaloupe.srv.cs.cmu.edu talk.abortion:...</td>\n",
       "      <td>talk.religion.misc</td>\n",
       "    </tr>\n",
       "    <tr>\n",
       "      <th>1996</th>\n",
       "      <td>Xref: cantaloupe.srv.cs.cmu.edu talk.religion....</td>\n",
       "      <td>talk.religion.misc</td>\n",
       "    </tr>\n",
       "    <tr>\n",
       "      <th>1997</th>\n",
       "      <td>Xref: cantaloupe.srv.cs.cmu.edu talk.origins:4...</td>\n",
       "      <td>talk.religion.misc</td>\n",
       "    </tr>\n",
       "    <tr>\n",
       "      <th>1998</th>\n",
       "      <td>Xref: cantaloupe.srv.cs.cmu.edu talk.religion....</td>\n",
       "      <td>talk.religion.misc</td>\n",
       "    </tr>\n",
       "    <tr>\n",
       "      <th>1999</th>\n",
       "      <td>Xref: cantaloupe.srv.cs.cmu.edu sci.skeptic:43...</td>\n",
       "      <td>talk.religion.misc</td>\n",
       "    </tr>\n",
       "  </tbody>\n",
       "</table>\n",
       "<p>2000 rows × 2 columns</p>\n",
       "</div>"
      ],
      "text/plain": [
       "                                                   Data              Labels\n",
       "0     Path: cantaloupe.srv.cs.cmu.edu!magnesium.club...         alt.atheism\n",
       "1     Newsgroups: alt.atheism\\nPath: cantaloupe.srv....         alt.atheism\n",
       "2     Path: cantaloupe.srv.cs.cmu.edu!das-news.harva...         alt.atheism\n",
       "3     Path: cantaloupe.srv.cs.cmu.edu!magnesium.club...         alt.atheism\n",
       "4     Xref: cantaloupe.srv.cs.cmu.edu alt.atheism:53...         alt.atheism\n",
       "...                                                 ...                 ...\n",
       "1995  Xref: cantaloupe.srv.cs.cmu.edu talk.abortion:...  talk.religion.misc\n",
       "1996  Xref: cantaloupe.srv.cs.cmu.edu talk.religion....  talk.religion.misc\n",
       "1997  Xref: cantaloupe.srv.cs.cmu.edu talk.origins:4...  talk.religion.misc\n",
       "1998  Xref: cantaloupe.srv.cs.cmu.edu talk.religion....  talk.religion.misc\n",
       "1999  Xref: cantaloupe.srv.cs.cmu.edu sci.skeptic:43...  talk.religion.misc\n",
       "\n",
       "[2000 rows x 2 columns]"
      ]
     },
     "execution_count": 5,
     "metadata": {},
     "output_type": "execute_result"
    }
   ],
   "source": [
    "df"
   ]
  },
  {
   "cell_type": "code",
   "execution_count": 8,
   "id": "81057ac8",
   "metadata": {},
   "outputs": [
    {
     "data": {
      "text/html": [
       "<div>\n",
       "<style scoped>\n",
       "    .dataframe tbody tr th:only-of-type {\n",
       "        vertical-align: middle;\n",
       "    }\n",
       "\n",
       "    .dataframe tbody tr th {\n",
       "        vertical-align: top;\n",
       "    }\n",
       "\n",
       "    .dataframe thead th {\n",
       "        text-align: right;\n",
       "    }\n",
       "</style>\n",
       "<table border=\"1\" class=\"dataframe\">\n",
       "  <thead>\n",
       "    <tr style=\"text-align: right;\">\n",
       "      <th></th>\n",
       "      <th>Data</th>\n",
       "      <th>Labels</th>\n",
       "    </tr>\n",
       "  </thead>\n",
       "  <tbody>\n",
       "    <tr>\n",
       "      <th>0</th>\n",
       "      <td>Path: cantaloupe.srv.cs.cmu.edu!magnesium.club...</td>\n",
       "      <td>alt.atheism</td>\n",
       "    </tr>\n",
       "    <tr>\n",
       "      <th>1</th>\n",
       "      <td>Newsgroups: alt.atheism\\nPath: cantaloupe.srv....</td>\n",
       "      <td>alt.atheism</td>\n",
       "    </tr>\n",
       "    <tr>\n",
       "      <th>2</th>\n",
       "      <td>Path: cantaloupe.srv.cs.cmu.edu!das-news.harva...</td>\n",
       "      <td>alt.atheism</td>\n",
       "    </tr>\n",
       "    <tr>\n",
       "      <th>3</th>\n",
       "      <td>Path: cantaloupe.srv.cs.cmu.edu!magnesium.club...</td>\n",
       "      <td>alt.atheism</td>\n",
       "    </tr>\n",
       "    <tr>\n",
       "      <th>4</th>\n",
       "      <td>Xref: cantaloupe.srv.cs.cmu.edu alt.atheism:53...</td>\n",
       "      <td>alt.atheism</td>\n",
       "    </tr>\n",
       "  </tbody>\n",
       "</table>\n",
       "</div>"
      ],
      "text/plain": [
       "                                                Data       Labels\n",
       "0  Path: cantaloupe.srv.cs.cmu.edu!magnesium.club...  alt.atheism\n",
       "1  Newsgroups: alt.atheism\\nPath: cantaloupe.srv....  alt.atheism\n",
       "2  Path: cantaloupe.srv.cs.cmu.edu!das-news.harva...  alt.atheism\n",
       "3  Path: cantaloupe.srv.cs.cmu.edu!magnesium.club...  alt.atheism\n",
       "4  Xref: cantaloupe.srv.cs.cmu.edu alt.atheism:53...  alt.atheism"
      ]
     },
     "execution_count": 8,
     "metadata": {},
     "output_type": "execute_result"
    }
   ],
   "source": [
    "df.head()"
   ]
  },
  {
   "cell_type": "code",
   "execution_count": 7,
   "id": "f3da5434",
   "metadata": {},
   "outputs": [
    {
     "name": "stdout",
     "output_type": "stream",
     "text": [
      "<class 'pandas.core.frame.DataFrame'>\n",
      "RangeIndex: 2000 entries, 0 to 1999\n",
      "Data columns (total 2 columns):\n",
      " #   Column  Non-Null Count  Dtype \n",
      "---  ------  --------------  ----- \n",
      " 0   Data    2000 non-null   object\n",
      " 1   Labels  2000 non-null   object\n",
      "dtypes: object(2)\n",
      "memory usage: 31.4+ KB\n"
     ]
    }
   ],
   "source": [
    "df.info()"
   ]
  },
  {
   "cell_type": "code",
   "execution_count": 9,
   "id": "2f2d4ce4",
   "metadata": {},
   "outputs": [
    {
     "data": {
      "text/html": [
       "<div>\n",
       "<style scoped>\n",
       "    .dataframe tbody tr th:only-of-type {\n",
       "        vertical-align: middle;\n",
       "    }\n",
       "\n",
       "    .dataframe tbody tr th {\n",
       "        vertical-align: top;\n",
       "    }\n",
       "\n",
       "    .dataframe thead th {\n",
       "        text-align: right;\n",
       "    }\n",
       "</style>\n",
       "<table border=\"1\" class=\"dataframe\">\n",
       "  <thead>\n",
       "    <tr style=\"text-align: right;\">\n",
       "      <th></th>\n",
       "      <th>Data</th>\n",
       "      <th>Labels</th>\n",
       "    </tr>\n",
       "  </thead>\n",
       "  <tbody>\n",
       "    <tr>\n",
       "      <th>count</th>\n",
       "      <td>2000</td>\n",
       "      <td>2000</td>\n",
       "    </tr>\n",
       "    <tr>\n",
       "      <th>unique</th>\n",
       "      <td>2000</td>\n",
       "      <td>20</td>\n",
       "    </tr>\n",
       "    <tr>\n",
       "      <th>top</th>\n",
       "      <td>Path: cantaloupe.srv.cs.cmu.edu!magnesium.club...</td>\n",
       "      <td>alt.atheism</td>\n",
       "    </tr>\n",
       "    <tr>\n",
       "      <th>freq</th>\n",
       "      <td>1</td>\n",
       "      <td>100</td>\n",
       "    </tr>\n",
       "  </tbody>\n",
       "</table>\n",
       "</div>"
      ],
      "text/plain": [
       "                                                     Data       Labels\n",
       "count                                                2000         2000\n",
       "unique                                               2000           20\n",
       "top     Path: cantaloupe.srv.cs.cmu.edu!magnesium.club...  alt.atheism\n",
       "freq                                                    1          100"
      ]
     },
     "execution_count": 9,
     "metadata": {},
     "output_type": "execute_result"
    }
   ],
   "source": [
    "df.describe()"
   ]
  },
  {
   "cell_type": "code",
   "execution_count": 10,
   "id": "694bf42f",
   "metadata": {},
   "outputs": [
    {
     "data": {
      "text/plain": [
       "Data      0\n",
       "Labels    0\n",
       "dtype: int64"
      ]
     },
     "execution_count": 10,
     "metadata": {},
     "output_type": "execute_result"
    }
   ],
   "source": [
    "df.isnull().sum()"
   ]
  },
  {
   "cell_type": "code",
   "execution_count": 11,
   "id": "06127a56",
   "metadata": {},
   "outputs": [
    {
     "data": {
      "text/plain": [
       "alt.atheism                 100\n",
       "comp.graphics               100\n",
       "talk.politics.misc          100\n",
       "talk.politics.mideast       100\n",
       "talk.politics.guns          100\n",
       "soc.religion.christian      100\n",
       "sci.space                   100\n",
       "sci.med                     100\n",
       "sci.electronics             100\n",
       "sci.crypt                   100\n",
       "rec.sport.hockey            100\n",
       "rec.sport.baseball          100\n",
       "rec.motorcycles             100\n",
       "rec.autos                   100\n",
       "misc.forsale                100\n",
       "comp.windows.x              100\n",
       "comp.sys.mac.hardware       100\n",
       "comp.sys.ibm.pc.hardware    100\n",
       "comp.os.ms-windows.misc     100\n",
       "talk.religion.misc          100\n",
       "Name: Labels, dtype: int64"
      ]
     },
     "execution_count": 11,
     "metadata": {},
     "output_type": "execute_result"
    }
   ],
   "source": [
    "df['Labels'].value_counts()"
   ]
  },
  {
   "cell_type": "code",
   "execution_count": 15,
   "id": "29bb415a",
   "metadata": {},
   "outputs": [],
   "source": [
    "import re\n",
    "from nltk.corpus import stopwords\n",
    "from nltk.tokenize import word_tokenize\n",
    "from sklearn.feature_extraction.text import TfidfVectorizer\n",
    "import nltk"
   ]
  },
  {
   "cell_type": "code",
   "execution_count": 19,
   "id": "33e2df85",
   "metadata": {},
   "outputs": [
    {
     "name": "stderr",
     "output_type": "stream",
     "text": [
      "[nltk_data] Downloading package punkt to\n",
      "[nltk_data]     C:\\Users\\Hp\\AppData\\Roaming\\nltk_data...\n",
      "[nltk_data]   Package punkt is already up-to-date!\n",
      "[nltk_data] Downloading package stopwords to\n",
      "[nltk_data]     C:\\Users\\Hp\\AppData\\Roaming\\nltk_data...\n",
      "[nltk_data]   Unzipping corpora\\stopwords.zip.\n"
     ]
    },
    {
     "data": {
      "text/plain": [
       "True"
      ]
     },
     "execution_count": 19,
     "metadata": {},
     "output_type": "execute_result"
    }
   ],
   "source": [
    "# Download the 'punkt' tokenizer models\n",
    "nltk.download('punkt')\n",
    "nltk.download('stopwords')"
   ]
  },
  {
   "cell_type": "code",
   "execution_count": 20,
   "id": "ed6e1cd4",
   "metadata": {},
   "outputs": [],
   "source": [
    "# Function to clean and preprocess text\n",
    "def preprocess_text(text):\n",
    "    text = text.lower()  # Convert to lowercase\n",
    "    text = re.sub(r'[^\\w\\s]', '', text)  # Remove punctuation\n",
    "    tokens = word_tokenize(text)  # Tokenize\n",
    "    tokens = [word for word in tokens if word not in stopwords.words('english')]  # Remove stopwords\n",
    "    return ' '.join(tokens)"
   ]
  },
  {
   "cell_type": "code",
   "execution_count": 22,
   "id": "6d52f780",
   "metadata": {
    "scrolled": false
   },
   "outputs": [],
   "source": [
    "# Apply preprocessing\n",
    "df['Processed_Data'] = df['Data'].apply(preprocess_text)"
   ]
  },
  {
   "cell_type": "code",
   "execution_count": 23,
   "id": "efc39326",
   "metadata": {},
   "outputs": [
    {
     "data": {
      "text/html": [
       "<div>\n",
       "<style scoped>\n",
       "    .dataframe tbody tr th:only-of-type {\n",
       "        vertical-align: middle;\n",
       "    }\n",
       "\n",
       "    .dataframe tbody tr th {\n",
       "        vertical-align: top;\n",
       "    }\n",
       "\n",
       "    .dataframe thead th {\n",
       "        text-align: right;\n",
       "    }\n",
       "</style>\n",
       "<table border=\"1\" class=\"dataframe\">\n",
       "  <thead>\n",
       "    <tr style=\"text-align: right;\">\n",
       "      <th></th>\n",
       "      <th>Data</th>\n",
       "      <th>Labels</th>\n",
       "      <th>Processed_Data</th>\n",
       "    </tr>\n",
       "  </thead>\n",
       "  <tbody>\n",
       "    <tr>\n",
       "      <th>0</th>\n",
       "      <td>Path: cantaloupe.srv.cs.cmu.edu!magnesium.club...</td>\n",
       "      <td>alt.atheism</td>\n",
       "      <td>path cantaloupesrvcscmuedumagnesiumclubcccmued...</td>\n",
       "    </tr>\n",
       "    <tr>\n",
       "      <th>1</th>\n",
       "      <td>Newsgroups: alt.atheism\\nPath: cantaloupe.srv....</td>\n",
       "      <td>alt.atheism</td>\n",
       "      <td>newsgroups altatheism path cantaloupesrvcscmue...</td>\n",
       "    </tr>\n",
       "    <tr>\n",
       "      <th>2</th>\n",
       "      <td>Path: cantaloupe.srv.cs.cmu.edu!das-news.harva...</td>\n",
       "      <td>alt.atheism</td>\n",
       "      <td>path cantaloupesrvcscmuedudasnewsharvardedunoc...</td>\n",
       "    </tr>\n",
       "    <tr>\n",
       "      <th>3</th>\n",
       "      <td>Path: cantaloupe.srv.cs.cmu.edu!magnesium.club...</td>\n",
       "      <td>alt.atheism</td>\n",
       "      <td>path cantaloupesrvcscmuedumagnesiumclubcccmued...</td>\n",
       "    </tr>\n",
       "    <tr>\n",
       "      <th>4</th>\n",
       "      <td>Xref: cantaloupe.srv.cs.cmu.edu alt.atheism:53...</td>\n",
       "      <td>alt.atheism</td>\n",
       "      <td>xref cantaloupesrvcscmuedu altatheism53485 tal...</td>\n",
       "    </tr>\n",
       "  </tbody>\n",
       "</table>\n",
       "</div>"
      ],
      "text/plain": [
       "                                                Data       Labels  \\\n",
       "0  Path: cantaloupe.srv.cs.cmu.edu!magnesium.club...  alt.atheism   \n",
       "1  Newsgroups: alt.atheism\\nPath: cantaloupe.srv....  alt.atheism   \n",
       "2  Path: cantaloupe.srv.cs.cmu.edu!das-news.harva...  alt.atheism   \n",
       "3  Path: cantaloupe.srv.cs.cmu.edu!magnesium.club...  alt.atheism   \n",
       "4  Xref: cantaloupe.srv.cs.cmu.edu alt.atheism:53...  alt.atheism   \n",
       "\n",
       "                                      Processed_Data  \n",
       "0  path cantaloupesrvcscmuedumagnesiumclubcccmued...  \n",
       "1  newsgroups altatheism path cantaloupesrvcscmue...  \n",
       "2  path cantaloupesrvcscmuedudasnewsharvardedunoc...  \n",
       "3  path cantaloupesrvcscmuedumagnesiumclubcccmued...  \n",
       "4  xref cantaloupesrvcscmuedu altatheism53485 tal...  "
      ]
     },
     "execution_count": 23,
     "metadata": {},
     "output_type": "execute_result"
    }
   ],
   "source": [
    "df.head()"
   ]
  },
  {
   "cell_type": "code",
   "execution_count": 24,
   "id": "8331282a",
   "metadata": {},
   "outputs": [],
   "source": [
    "#Feature Extraction\n",
    "# Initialize TF-IDF Vectorizer\n",
    "tfidf_vectorizer = TfidfVectorizer()\n"
   ]
  },
  {
   "cell_type": "code",
   "execution_count": 25,
   "id": "1c96fd01",
   "metadata": {},
   "outputs": [],
   "source": [
    "# Fit and transform the data\n",
    "X = tfidf_vectorizer.fit_transform(df['Processed_Data'])\n",
    "y = df['Labels']"
   ]
  },
  {
   "cell_type": "code",
   "execution_count": 26,
   "id": "0567cab0",
   "metadata": {},
   "outputs": [
    {
     "data": {
      "text/plain": [
       "<2000x56710 sparse matrix of type '<class 'numpy.float64'>'\n",
       "\twith 268380 stored elements in Compressed Sparse Row format>"
      ]
     },
     "execution_count": 26,
     "metadata": {},
     "output_type": "execute_result"
    }
   ],
   "source": [
    "X"
   ]
  },
  {
   "cell_type": "code",
   "execution_count": 27,
   "id": "78e05c7b",
   "metadata": {},
   "outputs": [
    {
     "data": {
      "text/plain": [
       "0              alt.atheism\n",
       "1              alt.atheism\n",
       "2              alt.atheism\n",
       "3              alt.atheism\n",
       "4              alt.atheism\n",
       "               ...        \n",
       "1995    talk.religion.misc\n",
       "1996    talk.religion.misc\n",
       "1997    talk.religion.misc\n",
       "1998    talk.religion.misc\n",
       "1999    talk.religion.misc\n",
       "Name: Labels, Length: 2000, dtype: object"
      ]
     },
     "execution_count": 27,
     "metadata": {},
     "output_type": "execute_result"
    }
   ],
   "source": [
    "y"
   ]
  },
  {
   "cell_type": "code",
   "execution_count": 28,
   "id": "0ca096b1",
   "metadata": {},
   "outputs": [],
   "source": [
    "#Naive Bayes Model for Text Classification\n",
    "#Split Data\n",
    "from sklearn.model_selection import train_test_split"
   ]
  },
  {
   "cell_type": "code",
   "execution_count": 29,
   "id": "3b6e3cdd",
   "metadata": {},
   "outputs": [],
   "source": [
    "# Split the dataset into training and test sets\n",
    "X_train, X_test, y_train, y_test = train_test_split(X, y, test_size=0.3, random_state=42)"
   ]
  },
  {
   "cell_type": "code",
   "execution_count": 30,
   "id": "64bfbde4",
   "metadata": {},
   "outputs": [],
   "source": [
    "#Train Naive Bayes Model\n",
    "from sklearn.naive_bayes import MultinomialNB\n",
    "from sklearn.metrics import classification_report, accuracy_score\n"
   ]
  },
  {
   "cell_type": "code",
   "execution_count": 31,
   "id": "f61b62ee",
   "metadata": {},
   "outputs": [],
   "source": [
    "# Initialize Naive Bayes Classifier\n",
    "nb_classifier = MultinomialNB()\n"
   ]
  },
  {
   "cell_type": "code",
   "execution_count": 32,
   "id": "fb92f2af",
   "metadata": {},
   "outputs": [
    {
     "data": {
      "text/html": [
       "<style>#sk-container-id-1 {color: black;}#sk-container-id-1 pre{padding: 0;}#sk-container-id-1 div.sk-toggleable {background-color: white;}#sk-container-id-1 label.sk-toggleable__label {cursor: pointer;display: block;width: 100%;margin-bottom: 0;padding: 0.3em;box-sizing: border-box;text-align: center;}#sk-container-id-1 label.sk-toggleable__label-arrow:before {content: \"▸\";float: left;margin-right: 0.25em;color: #696969;}#sk-container-id-1 label.sk-toggleable__label-arrow:hover:before {color: black;}#sk-container-id-1 div.sk-estimator:hover label.sk-toggleable__label-arrow:before {color: black;}#sk-container-id-1 div.sk-toggleable__content {max-height: 0;max-width: 0;overflow: hidden;text-align: left;background-color: #f0f8ff;}#sk-container-id-1 div.sk-toggleable__content pre {margin: 0.2em;color: black;border-radius: 0.25em;background-color: #f0f8ff;}#sk-container-id-1 input.sk-toggleable__control:checked~div.sk-toggleable__content {max-height: 200px;max-width: 100%;overflow: auto;}#sk-container-id-1 input.sk-toggleable__control:checked~label.sk-toggleable__label-arrow:before {content: \"▾\";}#sk-container-id-1 div.sk-estimator input.sk-toggleable__control:checked~label.sk-toggleable__label {background-color: #d4ebff;}#sk-container-id-1 div.sk-label input.sk-toggleable__control:checked~label.sk-toggleable__label {background-color: #d4ebff;}#sk-container-id-1 input.sk-hidden--visually {border: 0;clip: rect(1px 1px 1px 1px);clip: rect(1px, 1px, 1px, 1px);height: 1px;margin: -1px;overflow: hidden;padding: 0;position: absolute;width: 1px;}#sk-container-id-1 div.sk-estimator {font-family: monospace;background-color: #f0f8ff;border: 1px dotted black;border-radius: 0.25em;box-sizing: border-box;margin-bottom: 0.5em;}#sk-container-id-1 div.sk-estimator:hover {background-color: #d4ebff;}#sk-container-id-1 div.sk-parallel-item::after {content: \"\";width: 100%;border-bottom: 1px solid gray;flex-grow: 1;}#sk-container-id-1 div.sk-label:hover label.sk-toggleable__label {background-color: #d4ebff;}#sk-container-id-1 div.sk-serial::before {content: \"\";position: absolute;border-left: 1px solid gray;box-sizing: border-box;top: 0;bottom: 0;left: 50%;z-index: 0;}#sk-container-id-1 div.sk-serial {display: flex;flex-direction: column;align-items: center;background-color: white;padding-right: 0.2em;padding-left: 0.2em;position: relative;}#sk-container-id-1 div.sk-item {position: relative;z-index: 1;}#sk-container-id-1 div.sk-parallel {display: flex;align-items: stretch;justify-content: center;background-color: white;position: relative;}#sk-container-id-1 div.sk-item::before, #sk-container-id-1 div.sk-parallel-item::before {content: \"\";position: absolute;border-left: 1px solid gray;box-sizing: border-box;top: 0;bottom: 0;left: 50%;z-index: -1;}#sk-container-id-1 div.sk-parallel-item {display: flex;flex-direction: column;z-index: 1;position: relative;background-color: white;}#sk-container-id-1 div.sk-parallel-item:first-child::after {align-self: flex-end;width: 50%;}#sk-container-id-1 div.sk-parallel-item:last-child::after {align-self: flex-start;width: 50%;}#sk-container-id-1 div.sk-parallel-item:only-child::after {width: 0;}#sk-container-id-1 div.sk-dashed-wrapped {border: 1px dashed gray;margin: 0 0.4em 0.5em 0.4em;box-sizing: border-box;padding-bottom: 0.4em;background-color: white;}#sk-container-id-1 div.sk-label label {font-family: monospace;font-weight: bold;display: inline-block;line-height: 1.2em;}#sk-container-id-1 div.sk-label-container {text-align: center;}#sk-container-id-1 div.sk-container {/* jupyter's `normalize.less` sets `[hidden] { display: none; }` but bootstrap.min.css set `[hidden] { display: none !important; }` so we also need the `!important` here to be able to override the default hidden behavior on the sphinx rendered scikit-learn.org. See: https://github.com/scikit-learn/scikit-learn/issues/21755 */display: inline-block !important;position: relative;}#sk-container-id-1 div.sk-text-repr-fallback {display: none;}</style><div id=\"sk-container-id-1\" class=\"sk-top-container\"><div class=\"sk-text-repr-fallback\"><pre>MultinomialNB()</pre><b>In a Jupyter environment, please rerun this cell to show the HTML representation or trust the notebook. <br />On GitHub, the HTML representation is unable to render, please try loading this page with nbviewer.org.</b></div><div class=\"sk-container\" hidden><div class=\"sk-item\"><div class=\"sk-estimator sk-toggleable\"><input class=\"sk-toggleable__control sk-hidden--visually\" id=\"sk-estimator-id-1\" type=\"checkbox\" checked><label for=\"sk-estimator-id-1\" class=\"sk-toggleable__label sk-toggleable__label-arrow\">MultinomialNB</label><div class=\"sk-toggleable__content\"><pre>MultinomialNB()</pre></div></div></div></div></div>"
      ],
      "text/plain": [
       "MultinomialNB()"
      ]
     },
     "execution_count": 32,
     "metadata": {},
     "output_type": "execute_result"
    }
   ],
   "source": [
    "# Train the model\n",
    "nb_classifier.fit(X_train, y_train)\n"
   ]
  },
  {
   "cell_type": "code",
   "execution_count": 33,
   "id": "2bbb5de4",
   "metadata": {},
   "outputs": [],
   "source": [
    "# Predict on the test set\n",
    "y_pred = nb_classifier.predict(X_test)\n"
   ]
  },
  {
   "cell_type": "code",
   "execution_count": 34,
   "id": "4c1f3e8a",
   "metadata": {},
   "outputs": [
    {
     "data": {
      "text/plain": [
       "array(['alt.atheism', 'comp.sys.ibm.pc.hardware', 'sci.med',\n",
       "       'rec.sport.baseball', 'sci.electronics', 'sci.electronics',\n",
       "       'rec.sport.baseball', 'talk.politics.mideast', 'alt.atheism',\n",
       "       'sci.med', 'alt.atheism', 'sci.crypt', 'sci.crypt',\n",
       "       'rec.motorcycles', 'comp.sys.ibm.pc.hardware',\n",
       "       'comp.os.ms-windows.misc', 'rec.autos', 'comp.graphics',\n",
       "       'talk.politics.guns', 'talk.politics.misc', 'misc.forsale',\n",
       "       'alt.atheism', 'alt.atheism', 'rec.sport.hockey', 'alt.atheism',\n",
       "       'sci.crypt', 'sci.crypt', 'rec.sport.baseball', 'rec.autos',\n",
       "       'alt.atheism', 'sci.crypt', 'rec.sport.hockey', 'comp.windows.x',\n",
       "       'rec.sport.hockey', 'rec.sport.hockey', 'comp.sys.mac.hardware',\n",
       "       'sci.med', 'sci.electronics', 'rec.sport.hockey',\n",
       "       'comp.os.ms-windows.misc', 'sci.electronics',\n",
       "       'soc.religion.christian', 'comp.os.ms-windows.misc', 'sci.crypt',\n",
       "       'soc.religion.christian', 'rec.motorcycles', 'comp.windows.x',\n",
       "       'rec.motorcycles', 'alt.atheism', 'talk.politics.misc',\n",
       "       'soc.religion.christian', 'sci.crypt', 'sci.space',\n",
       "       'comp.os.ms-windows.misc', 'rec.sport.baseball',\n",
       "       'talk.politics.mideast', 'sci.electronics', 'talk.politics.guns',\n",
       "       'sci.crypt', 'comp.sys.ibm.pc.hardware', 'sci.space',\n",
       "       'misc.forsale', 'talk.politics.guns', 'rec.sport.hockey',\n",
       "       'talk.politics.guns', 'talk.politics.misc', 'rec.sport.baseball',\n",
       "       'soc.religion.christian', 'comp.graphics', 'sci.space',\n",
       "       'sci.space', 'comp.sys.ibm.pc.hardware', 'alt.atheism',\n",
       "       'rec.sport.hockey', 'rec.motorcycles', 'comp.graphics',\n",
       "       'talk.politics.guns', 'talk.politics.misc', 'sci.electronics',\n",
       "       'talk.politics.misc', 'alt.atheism', 'rec.motorcycles',\n",
       "       'sci.space', 'soc.religion.christian', 'alt.atheism',\n",
       "       'rec.sport.baseball', 'talk.politics.mideast',\n",
       "       'comp.sys.mac.hardware', 'rec.motorcycles', 'sci.crypt',\n",
       "       'soc.religion.christian', 'talk.politics.mideast',\n",
       "       'comp.os.ms-windows.misc', 'comp.os.ms-windows.misc',\n",
       "       'talk.politics.misc', 'talk.politics.misc', 'misc.forsale',\n",
       "       'sci.electronics', 'soc.religion.christian', 'talk.politics.misc',\n",
       "       'rec.sport.baseball', 'rec.sport.baseball',\n",
       "       'comp.sys.mac.hardware', 'sci.med', 'comp.os.ms-windows.misc',\n",
       "       'rec.motorcycles', 'misc.forsale', 'comp.os.ms-windows.misc',\n",
       "       'rec.motorcycles', 'sci.crypt', 'rec.autos', 'misc.forsale',\n",
       "       'rec.sport.hockey', 'talk.politics.mideast', 'rec.motorcycles',\n",
       "       'sci.crypt', 'sci.crypt', 'rec.sport.baseball',\n",
       "       'comp.sys.ibm.pc.hardware', 'sci.crypt', 'talk.politics.misc',\n",
       "       'rec.sport.hockey', 'sci.crypt', 'alt.atheism', 'misc.forsale',\n",
       "       'soc.religion.christian', 'comp.sys.mac.hardware',\n",
       "       'rec.motorcycles', 'sci.crypt', 'comp.sys.ibm.pc.hardware',\n",
       "       'talk.religion.misc', 'talk.politics.misc', 'rec.autos',\n",
       "       'sci.crypt', 'rec.motorcycles', 'sci.crypt', 'alt.atheism',\n",
       "       'alt.atheism', 'talk.politics.guns', 'soc.religion.christian',\n",
       "       'sci.med', 'comp.sys.ibm.pc.hardware', 'talk.politics.misc',\n",
       "       'rec.motorcycles', 'soc.religion.christian', 'comp.windows.x',\n",
       "       'misc.forsale', 'comp.sys.mac.hardware', 'comp.os.ms-windows.misc',\n",
       "       'comp.graphics', 'talk.politics.guns', 'rec.sport.baseball',\n",
       "       'misc.forsale', 'sci.crypt', 'comp.sys.ibm.pc.hardware',\n",
       "       'misc.forsale', 'comp.windows.x', 'talk.politics.guns',\n",
       "       'sci.electronics', 'talk.politics.guns', 'misc.forsale',\n",
       "       'rec.motorcycles', 'comp.graphics', 'sci.crypt',\n",
       "       'talk.religion.misc', 'sci.space', 'talk.politics.mideast',\n",
       "       'sci.electronics', 'comp.os.ms-windows.misc',\n",
       "       'talk.politics.mideast', 'sci.crypt', 'misc.forsale',\n",
       "       'alt.atheism', 'talk.politics.misc', 'misc.forsale', 'sci.med',\n",
       "       'rec.autos', 'sci.med', 'rec.motorcycles', 'sci.crypt',\n",
       "       'sci.electronics', 'rec.autos', 'talk.politics.misc', 'sci.crypt',\n",
       "       'rec.motorcycles', 'rec.autos', 'alt.atheism',\n",
       "       'talk.politics.guns', 'sci.crypt', 'sci.electronics', 'rec.autos',\n",
       "       'comp.os.ms-windows.misc', 'sci.med', 'comp.os.ms-windows.misc',\n",
       "       'alt.atheism', 'sci.electronics', 'sci.crypt', 'rec.motorcycles',\n",
       "       'misc.forsale', 'soc.religion.christian', 'talk.politics.misc',\n",
       "       'comp.windows.x', 'comp.graphics', 'rec.autos', 'sci.crypt',\n",
       "       'comp.os.ms-windows.misc', 'sci.space', 'rec.motorcycles',\n",
       "       'rec.sport.hockey', 'alt.atheism', 'talk.politics.mideast',\n",
       "       'alt.atheism', 'comp.os.ms-windows.misc', 'comp.graphics',\n",
       "       'rec.autos', 'talk.politics.misc', 'sci.crypt',\n",
       "       'comp.sys.ibm.pc.hardware', 'sci.electronics', 'sci.electronics',\n",
       "       'rec.sport.baseball', 'comp.graphics', 'comp.windows.x',\n",
       "       'sci.crypt', 'talk.politics.misc', 'alt.atheism',\n",
       "       'comp.sys.mac.hardware', 'comp.graphics', 'talk.politics.guns',\n",
       "       'comp.sys.ibm.pc.hardware', 'alt.atheism',\n",
       "       'comp.os.ms-windows.misc', 'talk.politics.guns',\n",
       "       'talk.politics.guns', 'talk.politics.mideast',\n",
       "       'comp.sys.ibm.pc.hardware', 'rec.sport.hockey', 'rec.motorcycles',\n",
       "       'sci.med', 'comp.windows.x', 'rec.autos', 'soc.religion.christian',\n",
       "       'comp.windows.x', 'rec.sport.baseball', 'sci.med', 'comp.graphics',\n",
       "       'rec.motorcycles', 'soc.religion.christian', 'rec.motorcycles',\n",
       "       'sci.crypt', 'rec.sport.hockey', 'comp.sys.ibm.pc.hardware',\n",
       "       'sci.crypt', 'comp.sys.mac.hardware', 'sci.space',\n",
       "       'rec.sport.hockey', 'comp.windows.x', 'misc.forsale',\n",
       "       'talk.politics.misc', 'sci.electronics', 'alt.atheism',\n",
       "       'soc.religion.christian', 'alt.atheism', 'alt.atheism',\n",
       "       'rec.sport.hockey', 'soc.religion.christian', 'misc.forsale',\n",
       "       'comp.graphics', 'comp.os.ms-windows.misc', 'rec.sport.hockey',\n",
       "       'sci.med', 'alt.atheism', 'comp.sys.mac.hardware',\n",
       "       'talk.politics.guns', 'alt.atheism', 'alt.atheism', 'sci.crypt',\n",
       "       'comp.sys.mac.hardware', 'sci.space', 'comp.sys.ibm.pc.hardware',\n",
       "       'alt.atheism', 'sci.space', 'misc.forsale', 'sci.med', 'sci.med',\n",
       "       'alt.atheism', 'comp.os.ms-windows.misc', 'talk.politics.mideast',\n",
       "       'alt.atheism', 'comp.graphics', 'sci.crypt',\n",
       "       'soc.religion.christian', 'sci.space', 'talk.politics.guns',\n",
       "       'comp.windows.x', 'comp.sys.ibm.pc.hardware', 'alt.atheism',\n",
       "       'talk.politics.mideast', 'talk.politics.misc', 'misc.forsale',\n",
       "       'comp.graphics', 'alt.atheism', 'sci.crypt', 'sci.space',\n",
       "       'rec.autos', 'talk.religion.misc', 'sci.crypt', 'sci.med',\n",
       "       'rec.sport.baseball', 'alt.atheism', 'rec.sport.hockey',\n",
       "       'alt.atheism', 'sci.electronics', 'rec.sport.baseball',\n",
       "       'rec.sport.hockey', 'comp.graphics', 'soc.religion.christian',\n",
       "       'soc.religion.christian', 'talk.politics.misc',\n",
       "       'soc.religion.christian', 'alt.atheism', 'talk.politics.guns',\n",
       "       'comp.graphics', 'sci.crypt', 'rec.sport.baseball',\n",
       "       'comp.graphics', 'talk.religion.misc', 'misc.forsale',\n",
       "       'talk.politics.misc', 'rec.autos', 'comp.sys.ibm.pc.hardware',\n",
       "       'comp.windows.x', 'soc.religion.christian', 'comp.graphics',\n",
       "       'comp.sys.ibm.pc.hardware', 'talk.politics.mideast',\n",
       "       'comp.os.ms-windows.misc', 'comp.graphics', 'sci.crypt',\n",
       "       'talk.politics.mideast', 'sci.space', 'comp.os.ms-windows.misc',\n",
       "       'alt.atheism', 'rec.motorcycles', 'misc.forsale',\n",
       "       'talk.politics.guns', 'sci.electronics', 'alt.atheism',\n",
       "       'soc.religion.christian', 'rec.sport.baseball', 'comp.graphics',\n",
       "       'comp.sys.mac.hardware', 'sci.space', 'talk.politics.guns',\n",
       "       'comp.graphics', 'comp.windows.x', 'talk.politics.mideast',\n",
       "       'talk.politics.mideast', 'sci.med', 'sci.crypt',\n",
       "       'talk.politics.misc', 'comp.sys.ibm.pc.hardware', 'rec.autos',\n",
       "       'rec.sport.hockey', 'misc.forsale', 'comp.sys.mac.hardware',\n",
       "       'talk.politics.mideast', 'sci.crypt', 'sci.crypt',\n",
       "       'comp.os.ms-windows.misc', 'soc.religion.christian',\n",
       "       'talk.politics.mideast', 'alt.atheism', 'talk.politics.misc',\n",
       "       'soc.religion.christian', 'soc.religion.christian', 'sci.crypt',\n",
       "       'talk.politics.mideast', 'talk.politics.misc', 'sci.space',\n",
       "       'sci.space', 'sci.electronics', 'comp.sys.mac.hardware',\n",
       "       'talk.politics.guns', 'comp.graphics', 'rec.autos',\n",
       "       'comp.graphics', 'sci.space', 'misc.forsale',\n",
       "       'soc.religion.christian', 'talk.politics.mideast',\n",
       "       'talk.politics.guns', 'rec.motorcycles', 'rec.autos',\n",
       "       'comp.windows.x', 'rec.sport.baseball', 'sci.crypt',\n",
       "       'talk.politics.mideast', 'sci.electronics', 'comp.windows.x',\n",
       "       'rec.sport.baseball', 'comp.os.ms-windows.misc', 'rec.motorcycles',\n",
       "       'misc.forsale', 'comp.sys.mac.hardware', 'rec.sport.hockey',\n",
       "       'soc.religion.christian', 'sci.electronics', 'rec.sport.hockey',\n",
       "       'sci.electronics', 'comp.windows.x', 'rec.autos',\n",
       "       'talk.politics.mideast', 'rec.sport.baseball', 'alt.atheism',\n",
       "       'sci.space', 'comp.os.ms-windows.misc', 'alt.atheism',\n",
       "       'comp.graphics', 'talk.politics.mideast', 'misc.forsale',\n",
       "       'comp.sys.ibm.pc.hardware', 'misc.forsale', 'comp.windows.x',\n",
       "       'alt.atheism', 'talk.politics.misc', 'talk.politics.misc',\n",
       "       'sci.crypt', 'rec.sport.hockey', 'sci.med',\n",
       "       'comp.sys.ibm.pc.hardware', 'soc.religion.christian',\n",
       "       'sci.electronics', 'comp.windows.x', 'alt.atheism', 'alt.atheism',\n",
       "       'sci.crypt', 'rec.sport.baseball', 'comp.sys.ibm.pc.hardware',\n",
       "       'soc.religion.christian', 'comp.graphics', 'comp.graphics',\n",
       "       'sci.space', 'misc.forsale', 'sci.space', 'comp.windows.x',\n",
       "       'rec.sport.baseball', 'sci.space', 'rec.autos', 'sci.electronics',\n",
       "       'comp.graphics', 'sci.med', 'alt.atheism', 'sci.crypt',\n",
       "       'alt.atheism', 'talk.politics.misc', 'comp.graphics',\n",
       "       'talk.politics.mideast', 'soc.religion.christian',\n",
       "       'comp.sys.mac.hardware', 'comp.os.ms-windows.misc',\n",
       "       'comp.sys.ibm.pc.hardware', 'rec.motorcycles', 'rec.sport.hockey',\n",
       "       'comp.sys.mac.hardware', 'comp.os.ms-windows.misc',\n",
       "       'comp.os.ms-windows.misc', 'rec.sport.baseball',\n",
       "       'comp.os.ms-windows.misc', 'rec.sport.baseball',\n",
       "       'comp.sys.mac.hardware', 'sci.crypt', 'rec.motorcycles',\n",
       "       'sci.electronics', 'talk.politics.guns', 'comp.sys.mac.hardware',\n",
       "       'misc.forsale', 'comp.sys.mac.hardware', 'comp.os.ms-windows.misc',\n",
       "       'sci.space', 'talk.politics.misc', 'sci.space',\n",
       "       'comp.os.ms-windows.misc', 'comp.sys.mac.hardware', 'misc.forsale',\n",
       "       'sci.med', 'rec.autos', 'misc.forsale', 'rec.sport.baseball',\n",
       "       'sci.crypt', 'soc.religion.christian', 'comp.sys.mac.hardware',\n",
       "       'talk.politics.misc', 'sci.electronics', 'rec.autos',\n",
       "       'rec.motorcycles', 'talk.politics.misc', 'comp.sys.mac.hardware',\n",
       "       'talk.politics.guns', 'misc.forsale', 'comp.graphics',\n",
       "       'comp.windows.x', 'rec.sport.baseball', 'sci.med',\n",
       "       'talk.politics.guns', 'alt.atheism', 'alt.atheism',\n",
       "       'comp.graphics', 'alt.atheism', 'sci.crypt', 'comp.graphics',\n",
       "       'comp.os.ms-windows.misc', 'comp.windows.x', 'sci.space',\n",
       "       'talk.politics.mideast', 'talk.politics.guns', 'rec.motorcycles',\n",
       "       'comp.os.ms-windows.misc', 'soc.religion.christian',\n",
       "       'rec.sport.hockey', 'talk.politics.mideast',\n",
       "       'comp.sys.ibm.pc.hardware', 'talk.politics.guns', 'rec.autos',\n",
       "       'rec.autos', 'rec.autos', 'comp.graphics',\n",
       "       'comp.sys.ibm.pc.hardware', 'rec.motorcycles', 'sci.electronics',\n",
       "       'rec.sport.hockey', 'talk.religion.misc', 'alt.atheism',\n",
       "       'rec.autos', 'rec.sport.baseball', 'talk.politics.misc',\n",
       "       'soc.religion.christian', 'rec.sport.baseball',\n",
       "       'comp.sys.mac.hardware', 'talk.religion.misc', 'comp.graphics',\n",
       "       'sci.electronics', 'rec.motorcycles', 'sci.crypt', 'alt.atheism',\n",
       "       'alt.atheism', 'rec.autos', 'talk.politics.mideast',\n",
       "       'talk.politics.misc', 'talk.politics.mideast',\n",
       "       'comp.sys.ibm.pc.hardware', 'alt.atheism', 'sci.crypt',\n",
       "       'rec.sport.hockey', 'comp.graphics', 'misc.forsale',\n",
       "       'talk.politics.mideast', 'alt.atheism', 'comp.graphics',\n",
       "       'talk.politics.guns', 'comp.sys.mac.hardware', 'alt.atheism',\n",
       "       'rec.motorcycles', 'rec.motorcycles', 'misc.forsale', 'sci.crypt',\n",
       "       'alt.atheism', 'rec.motorcycles', 'rec.sport.hockey',\n",
       "       'alt.atheism', 'sci.electronics', 'misc.forsale', 'sci.med',\n",
       "       'sci.space', 'comp.sys.mac.hardware', 'rec.sport.hockey',\n",
       "       'comp.graphics', 'sci.electronics', 'talk.politics.misc',\n",
       "       'talk.politics.misc', 'sci.space', 'talk.politics.misc',\n",
       "       'sci.space', 'comp.sys.ibm.pc.hardware', 'rec.sport.baseball',\n",
       "       'comp.sys.mac.hardware', 'sci.med', 'talk.politics.guns',\n",
       "       'misc.forsale', 'comp.graphics', 'talk.politics.misc', 'rec.autos',\n",
       "       'rec.motorcycles', 'sci.med', 'talk.politics.mideast',\n",
       "       'comp.graphics', 'soc.religion.christian', 'alt.atheism',\n",
       "       'rec.sport.baseball', 'rec.sport.baseball'], dtype='<U24')"
      ]
     },
     "execution_count": 34,
     "metadata": {},
     "output_type": "execute_result"
    }
   ],
   "source": [
    "y_pred"
   ]
  },
  {
   "cell_type": "code",
   "execution_count": 35,
   "id": "15af14f5",
   "metadata": {},
   "outputs": [
    {
     "name": "stdout",
     "output_type": "stream",
     "text": [
      "Accuracy: 0.7583333333333333\n",
      "Classification Report:\n",
      "                           precision    recall  f1-score   support\n",
      "\n",
      "             alt.atheism       0.40      0.96      0.57        24\n",
      "           comp.graphics       0.65      0.86      0.74        28\n",
      " comp.os.ms-windows.misc       0.90      0.82      0.86        33\n",
      "comp.sys.ibm.pc.hardware       0.84      0.58      0.69        36\n",
      "   comp.sys.mac.hardware       0.96      0.67      0.79        36\n",
      "          comp.windows.x       1.00      0.56      0.71        36\n",
      "            misc.forsale       0.61      0.83      0.70        24\n",
      "               rec.autos       0.96      0.81      0.88        31\n",
      "         rec.motorcycles       0.64      0.95      0.76        22\n",
      "      rec.sport.baseball       0.97      0.91      0.94        32\n",
      "        rec.sport.hockey       0.89      0.96      0.92        25\n",
      "               sci.crypt       0.49      1.00      0.66        24\n",
      "         sci.electronics       0.66      0.70      0.68        27\n",
      "                 sci.med       0.95      0.70      0.81        30\n",
      "               sci.space       1.00      0.84      0.92        32\n",
      "  soc.religion.christian       0.88      0.97      0.92        30\n",
      "      talk.politics.guns       0.93      0.69      0.79        36\n",
      "   talk.politics.mideast       0.90      0.93      0.91        28\n",
      "      talk.politics.misc       0.60      0.75      0.67        28\n",
      "      talk.religion.misc       0.83      0.13      0.23        38\n",
      "\n",
      "                accuracy                           0.76       600\n",
      "               macro avg       0.80      0.78      0.76       600\n",
      "            weighted avg       0.82      0.76      0.75       600\n",
      "\n"
     ]
    }
   ],
   "source": [
    "# Evaluate the model\n",
    "print(\"Accuracy:\", accuracy_score(y_test, y_pred))\n",
    "print(\"Classification Report:\\n\", classification_report(y_test, y_pred))"
   ]
  },
  {
   "cell_type": "code",
   "execution_count": 36,
   "id": "689c0965",
   "metadata": {},
   "outputs": [],
   "source": [
    "#Sentiment Analysis\n",
    "from textblob import TextBlob"
   ]
  },
  {
   "cell_type": "code",
   "execution_count": 37,
   "id": "73f7f19a",
   "metadata": {},
   "outputs": [],
   "source": [
    "# Function to get sentiment\n",
    "def get_sentiment(text):\n",
    "    analysis = TextBlob(text)\n",
    "    if analysis.sentiment.polarity > 0:\n",
    "        return 'positive'\n",
    "    elif analysis.sentiment.polarity < 0:\n",
    "        return 'negative'\n",
    "    else:\n",
    "        return 'neutral'"
   ]
  },
  {
   "cell_type": "code",
   "execution_count": 38,
   "id": "d0d8c5c1",
   "metadata": {},
   "outputs": [],
   "source": [
    "# Apply sentiment analysis\n",
    "df['Sentiment'] = df['Data'].apply(get_sentiment)\n"
   ]
  },
  {
   "cell_type": "code",
   "execution_count": 40,
   "id": "6da162fc",
   "metadata": {},
   "outputs": [
    {
     "data": {
      "text/plain": [
       "positive    1543\n",
       "negative     457\n",
       "Name: Sentiment, dtype: int64"
      ]
     },
     "execution_count": 40,
     "metadata": {},
     "output_type": "execute_result"
    }
   ],
   "source": [
    "df['Sentiment'].value_counts()"
   ]
  },
  {
   "cell_type": "code",
   "execution_count": 42,
   "id": "e1d80681",
   "metadata": {},
   "outputs": [],
   "source": [
    "#Analyze Sentiments Across Categories\n",
    "# Group by categories and analyze sentiments\n",
    "sentiment_distribution = df.groupby('Labels')['Sentiment'].value_counts().unstack().fillna(0)"
   ]
  },
  {
   "cell_type": "code",
   "execution_count": 43,
   "id": "e7cd7bd9",
   "metadata": {},
   "outputs": [
    {
     "name": "stdout",
     "output_type": "stream",
     "text": [
      "Sentiment                 negative  positive\n",
      "Labels                                      \n",
      "alt.atheism                     23        77\n",
      "comp.graphics                   24        76\n",
      "comp.os.ms-windows.misc         22        78\n",
      "comp.sys.ibm.pc.hardware        20        80\n",
      "comp.sys.mac.hardware           24        76\n",
      "comp.windows.x                  27        73\n",
      "misc.forsale                    16        84\n",
      "rec.autos                       17        83\n",
      "rec.motorcycles                 26        74\n",
      "rec.sport.baseball              29        71\n",
      "rec.sport.hockey                34        66\n",
      "sci.crypt                       19        81\n",
      "sci.electronics                 19        81\n",
      "sci.med                         29        71\n",
      "sci.space                       27        73\n",
      "soc.religion.christian          13        87\n",
      "talk.politics.guns              30        70\n",
      "talk.politics.mideast           22        78\n",
      "talk.politics.misc              22        78\n",
      "talk.religion.misc              14        86\n"
     ]
    }
   ],
   "source": [
    "print(sentiment_distribution)"
   ]
  },
  {
   "cell_type": "code",
   "execution_count": null,
   "id": "1b6a357e",
   "metadata": {},
   "outputs": [],
   "source": [
    "#Overall Accuracy:\n",
    "Accuracy: 0.758 (or 75.8%)\n",
    "This indicates that the model correctly classified about 75.8% of the instances across all classes.\n",
    "\n",
    "#Classification Report:\n",
    "    \n",
    "**Precision, Recall, F1-Score:\n",
    "    \n",
    "*Precision measures the proportion of true positive predictions among all positive predictions. Higher precision means fewer false positives.\n",
    "\n",
    "*Recall measures the proportion of true positive predictions among all actual positives. Higher recall means fewer false negatives.\n",
    "\n",
    "*F1-Score is the harmonic mean of precision and recall, providing a balance between the two.\n",
    "\n",
    "**Key Observations:\n",
    "\n",
    "1.High Performance:\n",
    "\n",
    "rec.sport.baseball: Precision = 0.97, Recall = 0.91, F1-Score = 0.94\n",
    "rec.sport.hockey: Precision = 0.89, Recall = 0.96, F1-Score = 0.92\n",
    "sci.space: Precision = 1.00, Recall = 0.84, F1-Score = 0.92\n",
    "soc.religion.christian: Precision = 0.88, Recall = 0.97, F1-Score = 0.92\n",
    "\n",
    "2.Areas for Improvement:\n",
    "\n",
    "talk.religion.misc: Precision = 0.83, Recall = 0.13, F1-Score = 0.23\n",
    "alt.atheism: Precision = 0.40, Recall = 0.96, F1-Score = 0.57\n",
    "sci.electronics: Precision = 0.66, Recall = 0.70, F1-Score = 0.68\n",
    "\n",
    "    \n",
    "##Macro and Weighted Averages:\n",
    "Macro Average:\n",
    "\n",
    "Precision: 0.80\n",
    "Recall: 0.78\n",
    "F1-Score: 0.76\n",
    "This is the average of metrics for each class, treating all classes equally.\n",
    "Weighted Average:\n",
    "\n",
    "Precision: 0.82\n",
    "Recall: 0.76\n",
    "F1-Score: 0.75\n",
    "\n",
    "This accounts for the number of instances in each class, giving more weight to classes with more samples."
   ]
  }
 ],
 "metadata": {
  "kernelspec": {
   "display_name": "Python 3 (ipykernel)",
   "language": "python",
   "name": "python3"
  },
  "language_info": {
   "codemirror_mode": {
    "name": "ipython",
    "version": 3
   },
   "file_extension": ".py",
   "mimetype": "text/x-python",
   "name": "python",
   "nbconvert_exporter": "python",
   "pygments_lexer": "ipython3",
   "version": "3.11.5"
  }
 },
 "nbformat": 4,
 "nbformat_minor": 5
}
