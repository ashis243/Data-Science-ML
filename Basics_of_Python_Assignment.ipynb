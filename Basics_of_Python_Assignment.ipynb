{
  "nbformat": 4,
  "nbformat_minor": 0,
  "metadata": {
    "colab": {
      "provenance": []
    },
    "kernelspec": {
      "name": "python3",
      "display_name": "Python 3"
    },
    "language_info": {
      "name": "python"
    }
  },
  "cells": [
    {
      "cell_type": "code",
      "execution_count": 2,
      "metadata": {
        "colab": {
          "base_uri": "https://localhost:8080/"
        },
        "id": "48btyFZ346o8",
        "outputId": "5f665db0-dec3-47fc-d999-29c844835fc4"
      },
      "outputs": [
        {
          "output_type": "stream",
          "name": "stdout",
          "text": [
            "Enter a number: 37\n",
            "37 is a prime number\n"
          ]
        }
      ],
      "source": [
        "##Exercise 1: Prime Numbers\n",
        "\n",
        "def is_prime(num):\n",
        "  \"\"\"Checks if a given number is prime.\"\"\"\n",
        "  if num <= 1:\n",
        "    return False\n",
        "  if num <= 3:\n",
        "    return True\n",
        "  if num % 2 == 0 or num % 3 == 0:\n",
        "    return False\n",
        "  i = 5\n",
        "  while i * i <= num:\n",
        "    if num % i == 0 or num % (i + 2) == 0:\n",
        "      return False\n",
        "    i += 6\n",
        "  return True\n",
        "\n",
        "# Example usage:\n",
        "number = int(input(\"Enter a number: \"))\n",
        "if is_prime(number):\n",
        "  print(number, \"is a prime number\")\n",
        "else:\n",
        "  print(number, \"is not a prime number\")\n"
      ]
    },
    {
      "cell_type": "code",
      "source": [
        "##Exercise 2: Product of Random Numbers\n",
        "\n",
        "import random\n",
        "\n",
        "num1 = random.randint(1, 10)\n",
        "num2 = random.randint(1, 10)\n",
        "\n",
        "print(\"Multiply:\", num1, \"*\", num2)\n",
        "user_answer = int(input(\"Enter your answer: \"))\n",
        "\n",
        "if user_answer == num1 * num2:\n",
        "  print(\"Correct!\")\n",
        "else:\n",
        "  print(\"Incorrect. The answer is\", num1 * num2)"
      ],
      "metadata": {
        "colab": {
          "base_uri": "https://localhost:8080/"
        },
        "id": "HiHkHekA54ef",
        "outputId": "c9581cb0-456b-4a1b-82cc-a49f26fe1d4c"
      },
      "execution_count": 3,
      "outputs": [
        {
          "output_type": "stream",
          "name": "stdout",
          "text": [
            "Multiply: 7 * 1\n",
            "Enter your answer: 14\n",
            "Incorrect. The answer is 7\n"
          ]
        }
      ]
    },
    {
      "cell_type": "code",
      "source": [
        "##Exercise 3: Squares of Even/Odd Numbers\n",
        "\n",
        "# Printing squares of even numbers from 100 to 200\n",
        "for num in range(100, 201, 2):\n",
        "  print(num, \"squared:\", num * num)"
      ],
      "metadata": {
        "colab": {
          "base_uri": "https://localhost:8080/"
        },
        "id": "ERAUjvzb6SuA",
        "outputId": "b7456184-2cb6-42ac-a078-db58bf463c78"
      },
      "execution_count": 4,
      "outputs": [
        {
          "output_type": "stream",
          "name": "stdout",
          "text": [
            "100 squared: 10000\n",
            "102 squared: 10404\n",
            "104 squared: 10816\n",
            "106 squared: 11236\n",
            "108 squared: 11664\n",
            "110 squared: 12100\n",
            "112 squared: 12544\n",
            "114 squared: 12996\n",
            "116 squared: 13456\n",
            "118 squared: 13924\n",
            "120 squared: 14400\n",
            "122 squared: 14884\n",
            "124 squared: 15376\n",
            "126 squared: 15876\n",
            "128 squared: 16384\n",
            "130 squared: 16900\n",
            "132 squared: 17424\n",
            "134 squared: 17956\n",
            "136 squared: 18496\n",
            "138 squared: 19044\n",
            "140 squared: 19600\n",
            "142 squared: 20164\n",
            "144 squared: 20736\n",
            "146 squared: 21316\n",
            "148 squared: 21904\n",
            "150 squared: 22500\n",
            "152 squared: 23104\n",
            "154 squared: 23716\n",
            "156 squared: 24336\n",
            "158 squared: 24964\n",
            "160 squared: 25600\n",
            "162 squared: 26244\n",
            "164 squared: 26896\n",
            "166 squared: 27556\n",
            "168 squared: 28224\n",
            "170 squared: 28900\n",
            "172 squared: 29584\n",
            "174 squared: 30276\n",
            "176 squared: 30976\n",
            "178 squared: 31684\n",
            "180 squared: 32400\n",
            "182 squared: 33124\n",
            "184 squared: 33856\n",
            "186 squared: 34596\n",
            "188 squared: 35344\n",
            "190 squared: 36100\n",
            "192 squared: 36864\n",
            "194 squared: 37636\n",
            "196 squared: 38416\n",
            "198 squared: 39204\n",
            "200 squared: 40000\n"
          ]
        }
      ]
    },
    {
      "cell_type": "code",
      "source": [
        "##Exercise 4: Word counter\n",
        "\n",
        "def word_count(text):\n",
        "  \"\"\"Counts the occurrences of each word in the given text.\"\"\"\n",
        "  words = text.split()\n",
        "  word_count = {}\n",
        "  for word in words:\n",
        "    word_count[word] = word_count.get(word, 0) + 1\n",
        "  return word_count\n",
        "\n",
        "# Example usage:\n",
        "input_text = \"My Name is Ashish,And I am a Data Science Student.\"\n",
        "result = word_count(input_text)\n",
        "for word, count in result.items():\n",
        "  print(f\"'{word}': {count}\")"
      ],
      "metadata": {
        "colab": {
          "base_uri": "https://localhost:8080/"
        },
        "id": "e12j6cqW6Z6T",
        "outputId": "fbbc1651-7d3c-47c6-d8fa-68d74dd0c397"
      },
      "execution_count": 6,
      "outputs": [
        {
          "output_type": "stream",
          "name": "stdout",
          "text": [
            "'My': 1\n",
            "'Name': 1\n",
            "'is': 1\n",
            "'Ashish,And': 1\n",
            "'I': 1\n",
            "'am': 1\n",
            "'a': 1\n",
            "'Data': 1\n",
            "'Science': 1\n",
            "'Student.': 1\n"
          ]
        }
      ]
    },
    {
      "cell_type": "code",
      "source": [
        "##Exercise 5: Check for Palindrome\n",
        "\n",
        "def is_palindrome(string):\n",
        "    \"\"\"Checks if a given string is a palindrome.\"\"\"\n",
        "    cleaned_string = ''.join(char.lower() for char in string if char.isalnum())\n",
        "    return cleaned_string == cleaned_string[::-1]\n",
        "\n",
        "string = \"racecar\"\n",
        "print(is_palindrome(string))"
      ],
      "metadata": {
        "colab": {
          "base_uri": "https://localhost:8080/"
        },
        "id": "zm1G-Nx47NkI",
        "outputId": "39e59574-d8d8-403b-b909-b4ce70129a11"
      },
      "execution_count": 9,
      "outputs": [
        {
          "output_type": "stream",
          "name": "stdout",
          "text": [
            "True\n"
          ]
        }
      ]
    }
  ]
}