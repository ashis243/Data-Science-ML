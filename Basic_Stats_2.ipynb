{
 "cells": [
  {
   "cell_type": "code",
   "execution_count": 1,
   "id": "faf4bc45",
   "metadata": {},
   "outputs": [],
   "source": [
    "import numpy as np\n",
    "import scipy.stats as stats"
   ]
  },
  {
   "cell_type": "code",
   "execution_count": 2,
   "id": "3040aee1",
   "metadata": {},
   "outputs": [],
   "source": [
    "# Data: Durability of print-heads in millions of characters\n",
    "data = [1.13, 1.55, 1.43, 0.92, 1.25, 1.36, 1.32, 0.85, 1.07, 1.48, 1.20, 1.33, 1.18, 1.22, 1.29]"
   ]
  },
  {
   "cell_type": "code",
   "execution_count": 3,
   "id": "95c63273",
   "metadata": {},
   "outputs": [],
   "source": [
    "# Sample statistics\n",
    "sample_mean = np.mean(data)\n",
    "sample_std = np.std(data, ddof=1)  # ddof=1 for sample standard deviation\n",
    "n = len(data)"
   ]
  },
  {
   "cell_type": "code",
   "execution_count": 4,
   "id": "657fea47",
   "metadata": {},
   "outputs": [
    {
     "data": {
      "text/plain": [
       "15"
      ]
     },
     "execution_count": 4,
     "metadata": {},
     "output_type": "execute_result"
    }
   ],
   "source": [
    "n "
   ]
  },
  {
   "cell_type": "code",
   "execution_count": 6,
   "id": "90f55dd6",
   "metadata": {},
   "outputs": [
    {
     "data": {
      "text/plain": [
       "1.2386666666666666"
      ]
     },
     "execution_count": 6,
     "metadata": {},
     "output_type": "execute_result"
    }
   ],
   "source": [
    "sample_mean "
   ]
  },
  {
   "cell_type": "code",
   "execution_count": 7,
   "id": "a2325bfb",
   "metadata": {},
   "outputs": [
    {
     "data": {
      "text/plain": [
       "0.19316412956959936"
      ]
     },
     "execution_count": 7,
     "metadata": {},
     "output_type": "execute_result"
    }
   ],
   "source": [
    "sample_std"
   ]
  },
  {
   "cell_type": "code",
   "execution_count": 8,
   "id": "62994520",
   "metadata": {},
   "outputs": [],
   "source": [
    "# a. 99% Confidence Interval using Sample Standard Deviation\n",
    "confidence_level = 0.99\n",
    "alpha = 1 - confidence_level\n",
    "df = n - 1\n",
    "t_value = stats.t.ppf(1 - alpha/2, df)\n",
    "margin_of_error_sample_std = t_value * (sample_std / np.sqrt(n))\n",
    "confidence_interval_sample_std = (sample_mean - margin_of_error_sample_std, sample_mean + margin_of_error_sample_std)"
   ]
  },
  {
   "cell_type": "code",
   "execution_count": 9,
   "id": "39d246f6",
   "metadata": {},
   "outputs": [
    {
     "name": "stdout",
     "output_type": "stream",
     "text": [
      "t-Value (99% CI): 2.97684273411266\n",
      "Margin of Error (Sample Std Dev): 0.1484693282152996\n",
      "99% Confidence Interval (Sample Std Dev): (1.090197338451367, 1.3871359948819662)\n"
     ]
    }
   ],
   "source": [
    "print(f\"t-Value (99% CI): {t_value}\")\n",
    "print(f\"Margin of Error (Sample Std Dev): {margin_of_error_sample_std}\")\n",
    "print(f\"99% Confidence Interval (Sample Std Dev): {confidence_interval_sample_std}\")"
   ]
  },
  {
   "cell_type": "code",
   "execution_count": 10,
   "id": "cc18637a",
   "metadata": {},
   "outputs": [],
   "source": [
    "# b. 99% Confidence Interval using Known Population Standard Deviation\n",
    "population_std = 0.2\n",
    "z_value = stats.norm.ppf(1 - alpha/2)\n",
    "margin_of_error_population_std = z_value * (population_std / np.sqrt(n))\n",
    "confidence_interval_population_std = (sample_mean - margin_of_error_population_std, sample_mean + margin_of_error_population_std)"
   ]
  },
  {
   "cell_type": "code",
   "execution_count": 11,
   "id": "4ea6ac5c",
   "metadata": {},
   "outputs": [
    {
     "name": "stdout",
     "output_type": "stream",
     "text": [
      "Known Population Standard Deviation: 0.2\n",
      "z-Value (99% CI): 2.5758293035489004\n",
      "Margin of Error (Population Std Dev): 0.13301525327090588\n",
      "99% Confidence Interval (Population Std Dev): (1.1056514133957607, 1.3716819199375725)\n"
     ]
    }
   ],
   "source": [
    "print(f\"Known Population Standard Deviation: {population_std}\")\n",
    "print(f\"z-Value (99% CI): {z_value}\")\n",
    "print(f\"Margin of Error (Population Std Dev): {margin_of_error_population_std}\")\n",
    "print(f\"99% Confidence Interval (Population Std Dev): {confidence_interval_population_std}\")"
   ]
  },
  {
   "cell_type": "code",
   "execution_count": null,
   "id": "9638f20e",
   "metadata": {},
   "outputs": [],
   "source": [
    "# Explanation\n",
    "Sample Mean: \n",
    "𝑥 =1.2387\n",
    "x =1.2387\n",
    "\n",
    "This is the average value from your sample data.\n",
    "Sample Standard Deviation: \n",
    "𝑠 = 0.1932\n",
    "\n",
    "\n",
    "This measures the dispersion or spread of the sample data around the sample mean.\n",
    "t-Value (99% Confidence Interval): \n",
    "𝑡 0.01=2.9768\n",
    "\n",
    "\n",
    "This is the critical value from the t-distribution for a 99% confidence interval. It's used when the sample standard deviation is used and is typically applied for smaller sample sizes.\n",
    "Margin of Error (Sample Std Dev): \n",
    "𝐸𝑠=0.1485\n",
    "\n",
    "This is the amount added and subtracted from the sample mean to create the confidence interval, calculated using the sample standard deviation.\n",
    "99% Confidence Interval (Sample Std Dev): \n",
    "(1.0902,1.3871)\n",
    "\n",
    "This interval means that we are 99% confident that the true population mean lies within this range based on the sample standard deviation.\n",
    "Known Population Standard Deviation: \n",
    "𝜎=0.2\n",
    "\n",
    "\n",
    "This is the standard deviation of the entire population, which is known in this case.\n",
    "z-Value (99% Confidence Interval): \n",
    "Z 0.01=2.5758\n",
    "\n",
    "This is the critical value from the z-distribution for a 99% confidence interval, used when the population standard deviation is known.\n",
    "Margin of Error (Population Std Dev): \n",
    "𝐸𝜎=0.1330\n",
    "\n",
    "This is the amount added and subtracted from the sample mean to create the confidence interval, calculated using the known population standard deviation.\n",
    "99% Confidence Interval (Population Std Dev): \n",
    "(1.1057,1.3717)\n",
    "\n",
    "This interval means that we are 99% confident that the true population mean lies within this range based on the known population standard deviation."
   ]
  },
  {
   "cell_type": "code",
   "execution_count": null,
   "id": "d5c56342",
   "metadata": {},
   "outputs": [],
   "source": [
    "#Insights\n",
    "1.Confidence Intervals:\n",
    "\n",
    "* The confidence intervals calculated with the sample standard deviation and known population standard deviation are relatively close to each other.\n",
    "This is expected as the population standard deviation is often a more accurate reflection of the true variability within the population.\n",
    "\n",
    "* Both confidence intervals suggest that the true mean of the population is likely between 1.09 and 1.39, with a high degree of confidence (99%).\n",
    "\n",
    "2.Effect of Standard Deviation:\n",
    "\n",
    "* The margin of error is slightly larger when using the sample standard deviation (0.1485) compared to the population standard deviation (0.1330).\n",
    "This is because the sample standard deviation typically has more variability, leading to a slightly wider confidence interval."
   ]
  }
 ],
 "metadata": {
  "kernelspec": {
   "display_name": "Python 3 (ipykernel)",
   "language": "python",
   "name": "python3"
  },
  "language_info": {
   "codemirror_mode": {
    "name": "ipython",
    "version": 3
   },
   "file_extension": ".py",
   "mimetype": "text/x-python",
   "name": "python",
   "nbconvert_exporter": "python",
   "pygments_lexer": "ipython3",
   "version": "3.11.5"
  }
 },
 "nbformat": 4,
 "nbformat_minor": 5
}
