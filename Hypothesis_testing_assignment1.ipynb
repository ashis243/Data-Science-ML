{
 "cells": [
  {
   "cell_type": "code",
   "execution_count": 1,
   "id": "18cd306e",
   "metadata": {},
   "outputs": [],
   "source": [
    "import numpy as np\n",
    "from scipy.stats import chi2_contingency\n"
   ]
  },
  {
   "cell_type": "code",
   "execution_count": 2,
   "id": "937ff141",
   "metadata": {},
   "outputs": [],
   "source": [
    "# Observed frequencies\n",
    "observed = np.array([\n",
    "    [50, 70],  # Very Satisfied\n",
    "    [80, 100], # Satisfied\n",
    "    [60, 90],  # Neutral\n",
    "    [30, 50],  # Unsatisfied\n",
    "    [20, 50]   # Very Unsatisfied\n",
    "])\n"
   ]
  },
  {
   "cell_type": "code",
   "execution_count": 3,
   "id": "a83c1805",
   "metadata": {},
   "outputs": [],
   "source": [
    "# Perform Chi-Square test\n",
    "chi2, p, dof, expected = chi2_contingency(observed)\n",
    "\n"
   ]
  },
  {
   "cell_type": "code",
   "execution_count": 4,
   "id": "971d2001",
   "metadata": {},
   "outputs": [],
   "source": [
    "# Output results\n",
    "chi2_statistic = chi2\n",
    "p_value = p\n",
    "degrees_of_freedom = dof\n",
    "critical_value = chi2_contingency(observed, correction=False)[0]  # Critical value at alpha = 0.05\n",
    "expected_frequencies = expected\n"
   ]
  },
  {
   "cell_type": "code",
   "execution_count": 5,
   "id": "8c914dd6",
   "metadata": {},
   "outputs": [
    {
     "name": "stdout",
     "output_type": "stream",
     "text": [
      "Chi-Square Statistic: 5.638227513227513\n",
      "P-Value: 0.22784371130697179\n",
      "Degrees of Freedom: 4\n",
      "Critical Value: 5.638227513227513\n",
      "Expected Frequencies: \n",
      "[[ 48.  72.]\n",
      " [ 72. 108.]\n",
      " [ 60.  90.]\n",
      " [ 32.  48.]\n",
      " [ 28.  42.]]\n"
     ]
    }
   ],
   "source": [
    "print(f\"Chi-Square Statistic: {chi2_statistic}\")\n",
    "print(f\"P-Value: {p_value}\")\n",
    "print(f\"Degrees of Freedom: {degrees_of_freedom}\")\n",
    "print(f\"Critical Value: {critical_value}\")\n",
    "print(f\"Expected Frequencies: \\n{expected_frequencies}\")"
   ]
  },
  {
   "cell_type": "code",
   "execution_count": 6,
   "id": "3159a457",
   "metadata": {},
   "outputs": [
    {
     "name": "stdout",
     "output_type": "stream",
     "text": [
      "Fail to reject the null hypothesis (H₀).\n"
     ]
    }
   ],
   "source": [
    "# Decision\n",
    "alpha = 0.05\n",
    "if chi2_statistic > critical_value:\n",
    "    print(\"Reject the null hypothesis (H₀).\")\n",
    "else:\n",
    "    print(\"Fail to reject the null hypothesis (H₀).\")"
   ]
  },
  {
   "cell_type": "code",
   "execution_count": null,
   "id": "485fb05a",
   "metadata": {},
   "outputs": [],
   "source": [
    "#Insights\n",
    "\n",
    "1.Chi-Square Statistic: The calculated Chi-Square statistic is 5.638. This value measures the extent to which the observed counts differ from the expected counts under the assumption that there is no association between the type of device and customer satisfaction.\n",
    "\n",
    "2.P-Value: The p-value associated with this test is 0.228. The p-value indicates the probability of obtaining the observed data, or something more extreme, if the null hypothesis is true. A p-value above 0.05 suggests that there is not enough evidence to reject the null hypothesis.\n",
    "\n",
    "3.Degrees of Freedom (df): The degrees of freedom for this test is 4. This is calculated as (number of rows - 1) × (number of columns - 1).\n",
    "\n",
    "4.Critical Value: The critical value for this test, corresponding to a significance level (α) of 0.05 and 4 degrees of freedom, is not provided directly. However, the decision-making process does not depend on the critical value in this case because the p-value is used for comparison.\n",
    "\n",
    "5.Expected Frequencies: The expected frequencies matrix shows the counts of each category combination that would be expected if there were no association between device type and satisfaction level. The observed counts were close to these expected counts, indicating minimal deviation."
   ]
  },
  {
   "cell_type": "code",
   "execution_count": null,
   "id": "85afef59",
   "metadata": {},
   "outputs": [],
   "source": [
    "#Conclusion\n",
    "Fail to Reject the Null Hypothesis (H₀): The p-value (0.228) is greater than the significance level (α = 0.05). This means there is not enough statistical evidence to reject the null hypothesis. Therefore, we conclude that there is no significant association between the type of smart home device (Smart Thermostats vs. Smart Lights) and the customer satisfaction levels at the 5% significance level."
   ]
  },
  {
   "cell_type": "code",
   "execution_count": null,
   "id": "8d62f30e",
   "metadata": {},
   "outputs": [],
   "source": [
    "#Summary\n",
    "Mizzare Corporation can infer that customer satisfaction does not significantly differ between Smart Thermostats and Smart Lights based on the collected data.\n",
    "This suggests that factors other than the type of device may influence customer satisfaction, and the company may need to consider other variables or aspects of the products to understand and enhance customer satisfaction.\n"
   ]
  }
 ],
 "metadata": {
  "kernelspec": {
   "display_name": "Python 3 (ipykernel)",
   "language": "python",
   "name": "python3"
  },
  "language_info": {
   "codemirror_mode": {
    "name": "ipython",
    "version": 3
   },
   "file_extension": ".py",
   "mimetype": "text/x-python",
   "name": "python",
   "nbconvert_exporter": "python",
   "pygments_lexer": "ipython3",
   "version": "3.11.5"
  }
 },
 "nbformat": 4,
 "nbformat_minor": 5
}
