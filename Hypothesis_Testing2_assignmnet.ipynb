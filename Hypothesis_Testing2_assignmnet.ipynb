{
 "cells": [
  {
   "cell_type": "code",
   "execution_count": 1,
   "id": "30c0f267",
   "metadata": {},
   "outputs": [],
   "source": [
    "import math\n",
    "import scipy.stats as stats\n"
   ]
  },
  {
   "cell_type": "code",
   "execution_count": 2,
   "id": "e4f29a2f",
   "metadata": {},
   "outputs": [],
   "source": [
    "# Given data\n",
    "sample_mean_cost = 3050  # Sample mean weekly cost in Rs.\n",
    "units_mean = 600         # Mean number of units produced\n",
    "units_std_dev = 25       # Standard deviation of number of units produced\n",
    "sample_size = 25         # Number of restaurants in the sample\n",
    "alpha = 0.05             # Significance level\n"
   ]
  },
  {
   "cell_type": "code",
   "execution_count": null,
   "id": "62ef61e6",
   "metadata": {},
   "outputs": [],
   "source": [
    "# Step 1: State the Hypotheses\n",
    "# H0: μ = 1000 + 5X\n",
    "# H1: μ > 1000 + 5X"
   ]
  },
  {
   "cell_type": "code",
   "execution_count": 3,
   "id": "0978e59d",
   "metadata": {},
   "outputs": [],
   "source": [
    "# Step 2: Calculate the Theoretical Mean Weekly Cost\n",
    "theoretical_cost = 1000 + 5 * units_mean"
   ]
  },
  {
   "cell_type": "code",
   "execution_count": 4,
   "id": "aa94444a",
   "metadata": {},
   "outputs": [
    {
     "data": {
      "text/plain": [
       "4000"
      ]
     },
     "execution_count": 4,
     "metadata": {},
     "output_type": "execute_result"
    }
   ],
   "source": [
    "theoretical_cost"
   ]
  },
  {
   "cell_type": "code",
   "execution_count": 5,
   "id": "47079d08",
   "metadata": {},
   "outputs": [],
   "source": [
    "# Standard deviation of weekly operating cost\n",
    "sigma = 5 * units_std_dev"
   ]
  },
  {
   "cell_type": "code",
   "execution_count": 6,
   "id": "847bdb7c",
   "metadata": {},
   "outputs": [
    {
     "data": {
      "text/plain": [
       "125"
      ]
     },
     "execution_count": 6,
     "metadata": {},
     "output_type": "execute_result"
    }
   ],
   "source": [
    "sigma"
   ]
  },
  {
   "cell_type": "code",
   "execution_count": 7,
   "id": "33a00d24",
   "metadata": {},
   "outputs": [],
   "source": [
    "# Calculate the Test Statistic\n",
    "test_statistic = (sample_mean_cost - theoretical_cost) / (sigma / math.sqrt(sample_size))"
   ]
  },
  {
   "cell_type": "code",
   "execution_count": 8,
   "id": "29ca1912",
   "metadata": {},
   "outputs": [
    {
     "data": {
      "text/plain": [
       "-38.0"
      ]
     },
     "execution_count": 8,
     "metadata": {},
     "output_type": "execute_result"
    }
   ],
   "source": [
    "test_statistic"
   ]
  },
  {
   "cell_type": "code",
   "execution_count": 9,
   "id": "7cb8557d",
   "metadata": {},
   "outputs": [],
   "source": [
    "# Step 3: Determine the Critical Value for alpha = 0.05 (one-tailed test)\n",
    "critical_value = stats.norm.ppf(1 - alpha)\n",
    "\n",
    "# Step 4: Make a Decision\n",
    "if test_statistic > critical_value:\n",
    "    decision = \"Reject the null hypothesis\"\n",
    "else:\n",
    "    decision = \"Fail to reject the null hypothesis\""
   ]
  },
  {
   "cell_type": "code",
   "execution_count": 11,
   "id": "474aab55",
   "metadata": {},
   "outputs": [
    {
     "data": {
      "text/plain": [
       "'Fail to reject the null hypothesis'"
      ]
     },
     "execution_count": 11,
     "metadata": {},
     "output_type": "execute_result"
    }
   ],
   "source": [
    "decision"
   ]
  },
  {
   "cell_type": "code",
   "execution_count": 12,
   "id": "fce44011",
   "metadata": {},
   "outputs": [],
   "source": [
    "# Step 5: Conclusion\n",
    "conclusion = f\"Based on the test, we {decision}. There is {'sufficient' if test_statistic > critical_value else 'insufficient'} evidence to support the claim that the weekly operating costs are higher than the model suggests.\"\n"
   ]
  },
  {
   "cell_type": "code",
   "execution_count": 13,
   "id": "2208838a",
   "metadata": {},
   "outputs": [
    {
     "data": {
      "text/plain": [
       "'Based on the test, we Fail to reject the null hypothesis. There is insufficient evidence to support the claim that the weekly operating costs are higher than the model suggests.'"
      ]
     },
     "execution_count": 13,
     "metadata": {},
     "output_type": "execute_result"
    }
   ],
   "source": [
    "conclusion"
   ]
  },
  {
   "cell_type": "code",
   "execution_count": 14,
   "id": "63134838",
   "metadata": {},
   "outputs": [
    {
     "name": "stdout",
     "output_type": "stream",
     "text": [
      "Theoretical Mean Weekly Cost (μ): 4000\n",
      "Sample Mean Weekly Cost (x̄): 3050\n",
      "Test Statistic (t): -38.0\n",
      "Critical Value (zα): 1.6448536269514722\n",
      "Based on the test, we Fail to reject the null hypothesis. There is insufficient evidence to support the claim that the weekly operating costs are higher than the model suggests.\n"
     ]
    }
   ],
   "source": [
    "# Output the results\n",
    "print(f\"Theoretical Mean Weekly Cost (μ): {theoretical_cost}\")\n",
    "print(f\"Sample Mean Weekly Cost (x̄): {sample_mean_cost}\")\n",
    "print(f\"Test Statistic (t): {test_statistic}\")\n",
    "print(f\"Critical Value (zα): {critical_value}\")\n",
    "print(conclusion)"
   ]
  },
  {
   "cell_type": "code",
   "execution_count": null,
   "id": "9a1427a0",
   "metadata": {},
   "outputs": [],
   "source": [
    "#Conclusion\n",
    "\n",
    "Based on the hypothesis testing, the results are as follows:\n",
    "\n",
    "Theoretical Mean Weekly Cost (\n",
    "𝜇 : Rs. 4000\n",
    "Sample Mean Weekly Cost (\n",
    "𝑥: Rs. 3050\n",
    "\n",
    "Test Statistic (t): -38.0\n",
    "Critical Value (zα): 1.6448536269514722\n",
    "\n",
    "2.Conclusion: The test statistic of -38.0 is less than the critical value of 1.6448536269514722. This means that the observed sample mean does not provide strong enough evidence to reject the null hypothesis that the actual weekly operating costs are equal to the theoretical cost suggested by the model.\n",
    "\n",
    "* Final Interpretation: There is insufficient evidence to support the restaurant owners claim that the actual weekly operating costs are higher than what the current cost model predicts.\n",
    "Therefore, based on this sample, we conclude that the theoretical model still accurately reflects the weekly operating costs."
   ]
  }
 ],
 "metadata": {
  "kernelspec": {
   "display_name": "Python 3 (ipykernel)",
   "language": "python",
   "name": "python3"
  },
  "language_info": {
   "codemirror_mode": {
    "name": "ipython",
    "version": 3
   },
   "file_extension": ".py",
   "mimetype": "text/x-python",
   "name": "python",
   "nbconvert_exporter": "python",
   "pygments_lexer": "ipython3",
   "version": "3.11.5"
  }
 },
 "nbformat": 4,
 "nbformat_minor": 5
}
